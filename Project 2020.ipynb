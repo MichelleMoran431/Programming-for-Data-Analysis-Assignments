{
 "cells": [
  {
   "cell_type": "markdown",
   "metadata": {},
   "source": [
    "### Project 2020\n",
    "\n",
    "### Programming for Data Analysis\n",
    "\n",
    "Aim: \n",
    "\n",
    "- Choose a real-world phenomenon that can be measured - gather 100 datapoints across 4 variables\n",
    "- Investigate the types of variables involved , their likely distributions and relationships with each other\n",
    "- Simulate a Dataset as closely matching their properties as possible\n",
    "- Detail your research and implement the simulation in a jupyter notebook\n"
   ]
  },
  {
   "cell_type": "markdown",
   "metadata": {},
   "source": [
    "#### References \n",
    "\n",
    "[] https://yourexperience.ie/wp-content/uploads/2020/01/NMES-Questionnaire_FINAL-1.pdf"
   ]
  }
 ],
 "metadata": {
  "kernelspec": {
   "display_name": "Python 3",
   "language": "python",
   "name": "python3"
  },
  "language_info": {
   "codemirror_mode": {
    "name": "ipython",
    "version": 3
   },
   "file_extension": ".py",
   "mimetype": "text/x-python",
   "name": "python",
   "nbconvert_exporter": "python",
   "pygments_lexer": "ipython3",
   "version": "3.8.3"
  }
 },
 "nbformat": 4,
 "nbformat_minor": 4
}
