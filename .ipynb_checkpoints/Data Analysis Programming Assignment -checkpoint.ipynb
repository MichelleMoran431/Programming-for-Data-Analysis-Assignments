{
 "cells": [
  {
   "cell_type": "markdown",
   "metadata": {},
   "source": [
    "Assignment  : The NumPy. random Package in Python\n",
    "\n",
    "Student  : Michelle Moran\n",
    "\n",
    "\n",
    "Details: To explain the numpy.random package in python under the following headings in a juypter notebook: \n",
    "\n",
    "1. Overall Purpose of the package\n",
    "2. The use of the \"SImple random data\" and \" permutations\" functions\n",
    "3. The use and purpose of at lease five \" Distributions\" Functions\n",
    "4. The use of seeds in generating pseudo random numbers\n",
    "\n",
    "\n"
   ]
  },
  {
   "cell_type": "markdown",
   "metadata": {},
   "source": [
    "Introduction : The NumPy.random Package \n",
    "\n",
    "NumPy ( Numerical Python) is a python library created in 2005 used for working with arrays. Arrays are used in data science , where speed and resources are of a huge importance  and this library can provide array objects alot faster that traditional python lists. \n",
    "Another advantage to NumPy arrays , they are stored at one continous place in memory making it easier for processes to access and manipulate them and they also can be manipulated to work with the latest CPU architectures.\n",
    "One of the modules NumPy offers is called the random module, simply  to allow to work with random numbers. Computers work on programs which have a defined set of instructions therefore there must be some algorithm to generate randon numbers. \n"
   ]
  },
  {
   "cell_type": "markdown",
   "metadata": {},
   "source": [
    "The use of the \"Simple random data\" and \" permutations\" functions \n",
    "\n",
    "the NumPy.Random() in python contains many functions which are used for generating random numbers from simple randam data to some permutation and distribution functions and random generator functions. \n",
    "\n",
    "Simple random data functions code all start with importing the function numpy as np , followed by . random. The rest of the code depends on the random data type required,i.e floats , integers , distributions etc. For example\n",
    "\n",
    "p. Random.rand( d0,d1,......,dn) - used to generate random numbers or values in a given shape \n"
   ]
  },
  {
   "cell_type": "code",
   "execution_count": 2,
   "metadata": {},
   "outputs": [
    {
     "data": {
      "text/plain": [
       "array([[0.05192949, 0.53405282],\n",
       "       [0.56626589, 0.32649461],\n",
       "       [0.5252191 , 0.39022916],\n",
       "       [0.02078405, 0.92569816],\n",
       "       [0.66876588, 0.34325591]])"
      ]
     },
     "execution_count": 2,
     "metadata": {},
     "output_type": "execute_result"
    }
   ],
   "source": [
    "import numpy as np\n",
    "a =np.random.rand(5,2)\n",
    "a\n"
   ]
  },
  {
   "cell_type": "markdown",
   "metadata": {},
   "source": [
    "Permutations function in NumPy.random is the arrangement of elements using either of 2 methods Shuffle () and permutation (). The difference between it that shuffle makes changes to the original array and permutation leaves it unchanged.\n",
    "For example :"
   ]
  },
  {
   "cell_type": "code",
   "execution_count": 3,
   "metadata": {},
   "outputs": [
    {
     "name": "stdout",
     "output_type": "stream",
     "text": [
      "[5 4 1 2 3]\n"
     ]
    }
   ],
   "source": [
    "from numpy import random\n",
    "import numpy as np\n",
    "\n",
    "arr = np.array([1, 2, 3, 4, 5])\n",
    "\n",
    "print(random.permutation(arr))"
   ]
  },
  {
   "cell_type": "markdown",
   "metadata": {},
   "source": [
    "ref :https://www.w3schools.com/python/numpy_random_permutation.asp"
   ]
  },
  {
   "cell_type": "markdown",
   "metadata": {},
   "source": [
    "The use and purpose of at lease five \" Distributions\" Functions\n",
    "\n"
   ]
  },
  {
   "cell_type": "markdown",
   "metadata": {},
   "source": [
    "Data Distributions is a list of all possible values and how often each value occurs, hugely imnportant when working with statistics and data science, using the numpy. random modules offers methods that can return randomly generated data distributions. These distributions can follow a certain probability density function. The following are examples of distributions : \n",
    "\n",
    "\n",
    "1. Normal Distribution\n",
    "\n",
    "This distribution is also known as Gaussian.It fits the probability of many commonly occuring events  e.g Peoples height. Where most people are of average height ( this is seen in the middle of the range of the bell curve) , the numbers of people that are taller or smaller than average are fairly equal and there is a very small number of people that are either extremely tall or short. \n",
    "\n",
    "\n",
    "The Random.normal() method is used. \n",
    "\n",
    "Its synax is : np.random.normal (loc=,scale=,size =)\n",
    "\n",
    "The three parameters defined as :\n",
    "\n",
    "loc- Mean ( \" centre\") of the distribution\n",
    "scale - standard deviation- (\"spread or width \")of the distribution\n",
    "size- the shape of the output array\n",
    "\n",
    "Example : random normal distribution of size 2 x 3\n"
   ]
  },
  {
   "cell_type": "code",
   "execution_count": 7,
   "metadata": {},
   "outputs": [
    {
     "name": "stdout",
     "output_type": "stream",
     "text": [
      "[[ 0.16913329 -0.11548188 -0.01098149]\n",
      " [-0.20790581  1.4033642   1.04448619]]\n"
     ]
    }
   ],
   "source": [
    "from numpy import random\n",
    "import numpy as np\n",
    "# random.normal produces a numpy array with 2 rows and 3 columns and is filled with numbers from a random normal distribution\n",
    "\n",
    "x =np. random.normal(size=(2, 3))\n",
    "\n",
    "print(x)"
   ]
  },
  {
   "cell_type": "code",
   "execution_count": null,
   "metadata": {},
   "outputs": [],
   "source": [
    "To visualise a normal distribution : "
   ]
  },
  {
   "cell_type": "code",
   "execution_count": 6,
   "metadata": {},
   "outputs": [
    {
     "data": {
      "text/plain": [
       "<Figure size 640x480 with 1 Axes>"
      ]
     },
     "metadata": {},
     "output_type": "display_data"
    }
   ],
   "source": [
    "from numpy import random\n",
    "import matplotlib.pyplot as plt\n",
    "import seaborn as sns\n",
    "\n",
    "sns.distplot(random.normal(size=1000), hist=False)\n",
    "\n",
    "plt.show()"
   ]
  },
  {
   "cell_type": "markdown",
   "metadata": {},
   "source": [
    "ref : https://www.sharpsightlabs.com/blog/numpy-random-normal/\n",
    "https://www.w3schools.com/python/numpy_random_normal.asp\n",
    "https://numpy.org/doc/stable/reference/random/generated/numpy.random.normal.html?highlight=normal%20distribution#rf578abb8fba2-2\n"
   ]
  },
  {
   "cell_type": "markdown",
   "metadata": {},
   "source": [
    "2. Binomial Distribution\n",
    "\n",
    "Also known as Discrete Distribution ( defined at separate set of events) . It descibes the outcomes of binary scenarios, e.g toss of a coin , heads or tails or where an experiment results in two possibilities - success or failure. \n",
    "\n",
    "The Random.binomial() method is used. \n",
    "\n",
    "Its synax is : np.random.binomial (n=, p=, size=)\n",
    "\n",
    "It has three parameters : \n",
    "\n",
    "n- number of trials ( integers >=0, Floats accepted but truncated to integers)\n",
    "p - probability of occurence of each trial ( float, >=0 and <=1)\n",
    "size - The shape of the returned array ~( intteger or tuple of integers)\n",
    "\n",
    "\n",
    "If there are an enough data points , binomial and normal distributions would be similar but with certian loc and scale parameters.\n",
    "\n",
    "Example of Binomial Distribution\n"
   ]
  },
  {
   "cell_type": "code",
   "execution_count": 11,
   "metadata": {},
   "outputs": [
    {
     "name": "stdout",
     "output_type": "stream",
     "text": [
      "[6 4 3 6 4 3 6 7 5 5]\n"
     ]
    }
   ],
   "source": [
    "from numpy import random\n",
    "import numpy as np\n",
    "x =np.random.binomial(n=10, p=0.5, size=10)\n",
    "\n",
    "print(x)"
   ]
  },
  {
   "cell_type": "code",
   "execution_count": null,
   "metadata": {},
   "outputs": [],
   "source": [
    "Visual of Binomial distribution :\n"
   ]
  },
  {
   "cell_type": "code",
   "execution_count": 12,
   "metadata": {},
   "outputs": [
    {
     "data": {
      "image/png": "[encoded data removed]",
      "text/plain": [
       "<Figure size 432x288 with 1 Axes>"
      ]
     },
     "metadata": {
      "needs_background": "light"
     },
     "output_type": "display_data"
    }
   ],
   "source": [
    "from numpy import random\n",
    "import matplotlib.pyplot as plt\n",
    "import seaborn as sns\n",
    "\n",
    "sns.distplot(random.binomial(n=10, p=0.5, size=10), hist=True, kde=False)\n",
    "\n",
    "plt.show()"
   ]
  },
  {
   "cell_type": "markdown",
   "metadata": {},
   "source": []
  }
 ],
 "metadata": {
  "kernelspec": {
   "display_name": "Python 3",
   "language": "python",
   "name": "python3"
  },
  "language_info": {
   "codemirror_mode": {
    "name": "ipython",
    "version": 3
   },
   "file_extension": ".py",
   "mimetype": "text/x-python",
   "name": "python",
   "nbconvert_exporter": "python",
   "pygments_lexer": "ipython3",
   "version": "3.7.4"
  }
 },
 "nbformat": 4,
 "nbformat_minor": 2
}
