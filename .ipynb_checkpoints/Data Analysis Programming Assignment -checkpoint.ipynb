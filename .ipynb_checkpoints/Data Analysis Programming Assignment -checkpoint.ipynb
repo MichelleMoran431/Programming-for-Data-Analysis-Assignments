{
 "cells": [
  {
   "cell_type": "markdown",
   "metadata": {},
   "source": [
    "### Assignment  : The NumPy. random Package in Python\n",
    "\n",
    "\n",
    "##### Student  : Michelle Moran\n",
    "\n",
    "\n",
    "#####  Assignment  Details: To explain the numpy.random package in python under the following headings in a juypter notebook: \n",
    "\n",
    "1. Overall Purpose of the package\n",
    "2. The use of the \"SImple random data\" and \" permutations\" functions\n",
    "3. The use and purpose of at lease five \" Distributions\" Functions\n",
    "4. The use of seeds in generating pseudo random numbers\n",
    "\n",
    "\n"
   ]
  },
  {
   "attachments": {
    "logo.jpg": {
     "image/jpeg": "[encoded data removed]"
    }
   },
   "cell_type": "markdown",
   "metadata": {},
   "source": [
    "#### Introduction : The overall use of the NumPy.random Package [1][2][3][4]\n",
    "\n",
    "![logo.jpg](attachment:logo.jpg)\n",
    "\n",
    "Random number generation has applications in gambling , statistical sampling , computer stimulation and crytography and other areas where an unpredictable result is desirable such as security applications. Most computer programming languages include functions or library routines that provide random number generators. They are designed to provide a random byte or work or a floating point number distributed between 0 and 1. An example of such program is NumPy ( Numerical python) which is a python library created in 2005 used for working with arrays.\n",
    "\n",
    "The random module is part of the NumPy library and it contains functions which are used for the generation of random numbers.It contains simple random data generation methods , some permutations and distribution functions and random generator functions.\n",
    "\n",
    "In the library There is a RandomState function which makes use of a global generator object which is shared across the application. But is now deemed a legacy function of NumPy 1.17. Its bitGenerator is called MT19937 \n",
    "\n",
    "There is a newer random number generation system which avoids the above global state and uses the object default_rng() to generate random number,called NumPys random. generator module. It produces pseudo random numbers using a combination of a BitGenerator to create sequences and a Generator to use those sequences to sample from different statisical distributions. \n",
    "An BitGenerator manages state and generates the random bits which are then transferred into random values from useful distributions. The default is a bitGenerator called PCG64. The syntax used to construct a new generator is numpy.random.default_rng().There is only one parameter called SEED used to initialize the BitGenerator and returns a generator. This PCG64 has a better statistical properties than the Legacy MT19937 used previously. "
   ]
  },
  {
   "cell_type": "markdown",
   "metadata": {},
   "source": [
    "An example of using Random Generator:\n",
    "\n",
    "Start by importing for following: numpy , random and default_rng"
   ]
  },
  {
   "cell_type": "code",
   "execution_count": 18,
   "metadata": {},
   "outputs": [
    {
     "data": {
      "text/plain": [
       "array([2, 3, 5, 3], dtype=int64)"
      ]
     },
     "execution_count": 18,
     "metadata": {},
     "output_type": "execute_result"
    }
   ],
   "source": [
    "import numpy as np\n",
    "from numpy.random import default_rng\n",
    "rng.integers(10,size=4)"
   ]
  },
  {
   "cell_type": "code",
   "execution_count": 15,
   "metadata": {},
   "outputs": [
    {
     "data": {
      "text/plain": [
       "-1.4238250364546312"
      ]
     },
     "execution_count": 15,
     "metadata": {},
     "output_type": "execute_result"
    }
   ],
   "source": [
    "\n",
    "#Using the bit generator PCG64 and passing it through the Generator\n",
    "\n",
    "from numpy.random import Generator, PCG64\n",
    "rg= Generator (PCG64(12345))\n",
    "rg.standard_normal()"
   ]
  },
  {
   "cell_type": "code",
   "execution_count": 12,
   "metadata": {},
   "outputs": [
    {
     "data": {
      "text/plain": [
       "0.37786929937474845"
      ]
     },
     "execution_count": 12,
     "metadata": {},
     "output_type": "execute_result"
    }
   ],
   "source": [
    "#Using the legacy bit generator MT19937 and passing it through the Generator\n",
    "\n",
    "from numpy.random import Generator, MT19937\n",
    "rg = Generator(MT19937(12345))\n",
    "rg.random()"
   ]
  },
  {
   "cell_type": "markdown",
   "metadata": {},
   "source": [
    "#### The use of the \"Simple random data\" and \" permutations\" functions :\n",
    "\n",
    "##### Simple random data \n",
    "\n",
    "|   TYPE   \t|              Parameters             \t|                                      Returns                                      \t|\n",
    "|:--------:\t|:-----------------------------------:\t|:---------------------------------------------------------------------------------:\t|\n",
    "| Integers \t|   low, high, size, dtype, endpoint  \t| Return random integers  or if endpoint=True, low (inclusive) to high (inclusive). \t|\n",
    "|  Random  \t|           size, dtype, out          \t|                         Return random floats of shape size                        \t|\n",
    "|  Choice  \t| a , size, replace, p, axis, shuffle \t|                  Generates a random sample from a given 1-D array                 \t|\n",
    "|   bytes  \t|    length ( no. of random bytes)    \t|                                    length (str)                                   \t|\n",
    "\n",
    "\n",
    "Looking at the code for 2 of the above Integers and Choice :"
   ]
  },
  {
   "cell_type": "code",
   "execution_count": 25,
   "metadata": {},
   "outputs": [
    {
     "data": {
      "text/plain": [
       "array([9, 7, 0, 3, 0, 6, 0, 7, 7, 3])"
      ]
     },
     "execution_count": 25,
     "metadata": {},
     "output_type": "execute_result"
    }
   ],
   "source": [
    "## Integers\n",
    "\n",
    "#Setting dtype as int\n",
    "import numpy as np\n",
    "from numpy.random import default_rng\n",
    "rng = np.random.default_rng()\n",
    "rng.integers(10, size=10, dtype=int)"
   ]
  },
  {
   "cell_type": "code",
   "execution_count": 28,
   "metadata": {},
   "outputs": [
    {
     "data": {
      "text/plain": [
       "array([1, 4, 2], dtype=int64)"
      ]
     },
     "execution_count": 28,
     "metadata": {},
     "output_type": "execute_result"
    }
   ],
   "source": [
    "\n",
    "import numpy as np\n",
    "from numpy.random import default_rng\n",
    "rng = np.random.default_rng()\n",
    "rng.choice(5, 3)\n"
   ]
  },
  {
   "cell_type": "markdown",
   "metadata": {},
   "source": [
    "Permutations function in NumPy.random is the arrangement of elements using either of 2 methods Shuffle () and permutation (). The difference between it that shuffle makes changes to the original array and permutation leaves it unchanged.\n",
    "For example :"
   ]
  },
  {
   "cell_type": "code",
   "execution_count": 3,
   "metadata": {},
   "outputs": [
    {
     "name": "stdout",
     "output_type": "stream",
     "text": [
      "[5 4 1 2 3]\n"
     ]
    }
   ],
   "source": [
    "from numpy import random\n",
    "import numpy as np\n",
    "\n",
    "arr = np.array([1, 2, 3, 4, 5])\n",
    "\n",
    "print(random.permutation(arr))"
   ]
  },
  {
   "cell_type": "markdown",
   "metadata": {},
   "source": [
    "ref :https://www.w3schools.com/python/numpy_random_permutation.asp"
   ]
  },
  {
   "cell_type": "markdown",
   "metadata": {},
   "source": [
    "The use and purpose of at lease five \" Distributions\" Functions\n",
    "\n"
   ]
  },
  {
   "cell_type": "markdown",
   "metadata": {},
   "source": [
    "Data Distributions is a list of all possible values and how often each value occurs, hugely imnportant when working with statistics and data science, using the numpy. random modules offers methods that can return randomly generated data distributions. These distributions can follow a certain probability density function. The following are examples of distributions : \n",
    "\n",
    "\n",
    "1. Normal Distribution\n",
    "\n",
    "This distribution is also known as Gaussian.It fits the probability of many commonly occuring events  e.g Peoples height. Where most people are of average height ( this is seen in the middle of the range of the bell curve) , the numbers of people that are taller or smaller than average are fairly equal and there is a very small number of people that are either extremely tall or short. \n",
    "\n",
    "\n",
    "The Random.normal() method is used. \n",
    "\n",
    "Its synax is : np.random.normal (loc=,scale=,size =)\n",
    "\n",
    "The three parameters defined as :\n",
    "\n",
    "loc- Mean ( \" centre\") of the distribution\n",
    "scale - standard deviation- (\"spread or width \")of the distribution\n",
    "size- the shape of the output array\n",
    "\n",
    "Example : random normal distribution of size 2 x 3\n"
   ]
  },
  {
   "cell_type": "code",
   "execution_count": 29,
   "metadata": {},
   "outputs": [
    {
     "ename": "ImportError",
     "evalue": "cannot import name 'default_rng' from 'random' (C:\\Users\\User\\anaconda3\\lib\\random.py)",
     "output_type": "error",
     "traceback": [
      "\u001b[1;31m---------------------------------------------------------------------------\u001b[0m",
      "\u001b[1;31mImportError\u001b[0m                               Traceback (most recent call last)",
      "\u001b[1;32m<ipython-input-29-fe1bb148e584>\u001b[0m in \u001b[0;36m<module>\u001b[1;34m\u001b[0m\n\u001b[0;32m      1\u001b[0m \u001b[1;32mfrom\u001b[0m \u001b[0mnumpy\u001b[0m \u001b[1;32mimport\u001b[0m \u001b[0mrandom\u001b[0m\u001b[1;33m\u001b[0m\u001b[1;33m\u001b[0m\u001b[0m\n\u001b[0;32m      2\u001b[0m \u001b[1;32mimport\u001b[0m \u001b[0mnumpy\u001b[0m \u001b[1;32mas\u001b[0m \u001b[0mnp\u001b[0m\u001b[1;33m\u001b[0m\u001b[1;33m\u001b[0m\u001b[0m\n\u001b[1;32m----> 3\u001b[1;33m \u001b[1;32mfrom\u001b[0m \u001b[0mrandom\u001b[0m \u001b[1;32mimport\u001b[0m \u001b[0mdefault_rng\u001b[0m\u001b[1;33m\u001b[0m\u001b[1;33m\u001b[0m\u001b[0m\n\u001b[0m\u001b[0;32m      4\u001b[0m \u001b[1;31m# random.normal produces a numpy array with 2 rows and 3 columns and is filled with numbers from a random normal distribution\u001b[0m\u001b[1;33m\u001b[0m\u001b[1;33m\u001b[0m\u001b[1;33m\u001b[0m\u001b[0m\n\u001b[0;32m      5\u001b[0m \u001b[1;33m\u001b[0m\u001b[0m\n",
      "\u001b[1;31mImportError\u001b[0m: cannot import name 'default_rng' from 'random' (C:\\Users\\User\\anaconda3\\lib\\random.py)"
     ]
    }
   ],
   "source": [
    "from numpy import random\n",
    "import numpy as np\n",
    "from random import default_rng \n",
    "# random.normal produces a numpy array with 2 rows and 3 columns and is filled with numbers from a random normal distribution\n",
    "\n",
    "x =np.random.default.rng.normal(size=(2, 3))\n",
    "\n",
    "print(x)"
   ]
  },
  {
   "cell_type": "code",
   "execution_count": null,
   "metadata": {},
   "outputs": [],
   "source": [
    "To visualise a normal distribution : "
   ]
  },
  {
   "cell_type": "code",
   "execution_count": 6,
   "metadata": {},
   "outputs": [
    {
     "data": {
      "text/plain": [
       "<Figure size 640x480 with 1 Axes>"
      ]
     },
     "metadata": {},
     "output_type": "display_data"
    }
   ],
   "source": [
    "from numpy import random\n",
    "import matplotlib.pyplot as plt\n",
    "import seaborn as sns\n",
    "\n",
    "sns.distplot(random.normal(size=1000), hist=False)\n",
    "\n",
    "plt.show()"
   ]
  },
  {
   "cell_type": "markdown",
   "metadata": {},
   "source": [
    "ref : https://www.sharpsightlabs.com/blog/numpy-random-normal/\n",
    "https://www.w3schools.com/python/numpy_random_normal.asp\n",
    "https://numpy.org/doc/stable/reference/random/generated/numpy.random.normal.html?highlight=normal%20distribution#rf578abb8fba2-2\n"
   ]
  },
  {
   "cell_type": "markdown",
   "metadata": {},
   "source": [
    "2. Binomial Distribution\n",
    "\n",
    "Also known as Discrete Distribution ( defined at separate set of events) . It descibes the outcomes of binary scenarios, e.g toss of a coin , heads or tails or where an experiment results in two possibilities - success or failure or the chances of winning money on the lotto or to give a data center the ability to estimate operational uptime/downtime of a computer.\n",
    "\n",
    "This type of distribution depends on independence and probability of getting either outcome remains the same. \n",
    "\n",
    "The Random.binomial() method is used. \n",
    "\n",
    "Its synax is : np.random.binomial (n=, p=, size=)\n",
    "\n",
    "It has three parameters : \n",
    "\n",
    "n- number of trials ( integers >=0, Floats accepted but truncated to integers)\n",
    "p - probability of occurence of each trial ( float, >=0 and <=1)\n",
    "size - The shape of the returned array ~( intteger or tuple of integers)\n",
    "\n",
    "\n",
    "If there are an enough data points , binomial and normal distributions would be similar but with certian loc and scale parameters.\n",
    "\n",
    "Example of Binomial Distribution\n"
   ]
  },
  {
   "cell_type": "code",
   "execution_count": 11,
   "metadata": {},
   "outputs": [
    {
     "name": "stdout",
     "output_type": "stream",
     "text": [
      "[6 4 3 6 4 3 6 7 5 5]\n"
     ]
    }
   ],
   "source": [
    "from numpy import random\n",
    "import numpy as np\n",
    "x =np.random.binomial(n=10, p=0.5, size=10)\n",
    "\n",
    "print(x)"
   ]
  },
  {
   "cell_type": "code",
   "execution_count": null,
   "metadata": {},
   "outputs": [],
   "source": [
    "Visual of Binomial distribution :\n"
   ]
  },
  {
   "cell_type": "code",
   "execution_count": 12,
   "metadata": {},
   "outputs": [
    {
     "data": {
      "image/png": "[encoded data removed]",
      "text/plain": [
       "<Figure size 432x288 with 1 Axes>"
      ]
     },
     "metadata": {
      "needs_background": "light"
     },
     "output_type": "display_data"
    }
   ],
   "source": [
    "from numpy import random\n",
    "import matplotlib.pyplot as plt\n",
    "import seaborn as sns\n",
    "\n",
    "sns.distplot(random.binomial(n=10, p=0.5, size=10), hist=True, kde=False)\n",
    "\n",
    "plt.show()"
   ]
  },
  {
   "cell_type": "markdown",
   "metadata": {},
   "source": [
    "ref: https://numpy.org/doc/1.19/reference/random/generated/numpy.random.binomial.html?highlight=distributions\n",
    "https://www.w3schools.com/python/numpy_random_binomial.asp"
   ]
  },
  {
   "cell_type": "markdown",
   "metadata": {},
   "source": [
    "3. Pareto distribution \n",
    "\n",
    "This distribution is sometimes known as the Pareto principle or '80-20' rule, where at its conception it refered to the societys wealth held at 80% by only 20% of its population. It is power law of observation and probability distribution. Power law describes a functional relationship between two quantities such that a change in one quantity triggers a proportional change in the other quantity irrespective of the inital size of the 2 quantities. \n",
    "\n",
    "More recent applications of a Pareto Distribution can be seen : \n",
    "1. with male dating success in Tinder where 80 % of females compete for 20% of the most attractive males \n",
    "2. Hard disk drive error rates where the number of errors was observed during a 2-week time interval and the number of errors a drive experiences during its lifetime is examined through both Poisson and a paredo distributions. A paredo distribution was found to fit the data better and reported the parameters that provided the best fit. \n",
    "\n",
    "\n",
    "\n",
    "The Random.pareto() method is used.\n",
    "\n",
    "Its synax is : np.random.pareto (n=, p=, size=)\n",
    "\n",
    "It has two parameters :\n",
    "\n",
    "a - Float Shape of the distribution ( must be positive) \n",
    "size - integer or tuple of ints - output shape \n",
    "       types of shape are : if m,n,k , then m*I*k samples are drawn. IF size are none , a single value is returned if a is scalar,. Otherwise , no. array(a). size samples are drawn. \n",
    "       \n",
    "\n",
    "Example of Pareto Distribution : "
   ]
  },
  {
   "cell_type": "code",
   "execution_count": 6,
   "metadata": {},
   "outputs": [
    {
     "name": "stdout",
     "output_type": "stream",
     "text": [
      "[1.65513883 2.39356533 1.54906727 1.22146531 2.38963298 1.01639508\n",
      " 1.79305804 1.31066876 1.88021864 1.42445   ]\n"
     ]
    }
   ],
   "source": [
    "import numpy as np\n",
    "import matplotlib.pyplot as plt\n",
    "size, a= 1., 3.\n",
    "#drawing samples from distribution\n",
    "samples = (np.random.pareto(a, 10) + 1) * size\n",
    "print (samples)"
   ]
  },
  {
   "cell_type": "markdown",
   "metadata": {},
   "source": [
    "Visual of Pareto distribution :"
   ]
  },
  {
   "cell_type": "code",
   "execution_count": 8,
   "metadata": {},
   "outputs": [
    {
     "name": "stderr",
     "output_type": "stream",
     "text": [
      "C:\\Users\\User\\Anaconda3\\lib\\site-packages\\ipykernel_launcher.py:5: MatplotlibDeprecationWarning: \n",
      "The 'normed' kwarg was deprecated in Matplotlib 2.1 and will be removed in 3.1. Use 'density' instead.\n",
      "  \"\"\"\n"
     ]
    },
    {
     "data": {
      "image/png": "[encoded data removed]",
      "text/plain": [
       "<Figure size 576x576 with 1 Axes>"
      ]
     },
     "metadata": {
      "needs_background": "light"
     },
     "output_type": "display_data"
    }
   ],
   "source": [
    "import numpy as np\n",
    "import matplotlib.pyplot as plt\n",
    "size, a = 1, 3.\n",
    "samples = (np.random.pareto(a, 10) + 1) * size\n",
    "count, bins, _ = plt.hist(samples, 100, normed=True)\n",
    "fit = a*size**a / bins**(a+1)\n",
    "plt.plot(bins, max(count)*fit/max(fit), linewidth=2, color='r')\n",
    "plt.xlabel('bins', fontsize=15)\n",
    "plt.ylabel('probability density', fontsize=15)\n",
    "plt.title('Probability Density Function', fontsize=15)\n",
    "plt.grid(b=True, color='grey', alpha=0.3, linestyle='-.', linewidth=2)\n",
    "plt.rcParams['figure.figsize'] = [8, 8]\n",
    "plt.show()"
   ]
  },
  {
   "cell_type": "markdown",
   "metadata": {},
   "source": [
    "ref: https://towardsdatascience.com/generating-pareto-distribution-in-python-2c2f77f70dbf\n",
    "        https://www.usenix.org/legacy/event/fast10/tech/full_papers/schroeder.pdf\n",
    "        https://numpy.org/doc/1.19/reference/random/generated/numpy.random.pareto.html"
   ]
  },
  {
   "cell_type": "markdown",
   "metadata": {},
   "source": [
    "4. Poisson Distribution \n",
    "\n",
    "This distribution is another example of a discrete distribution. It estimates how many times an event can happen in a specified time. \n",
    "\n",
    "The Random.poisson() method is used.\n",
    "\n",
    "Its synax is : np.random.poisson (1am =, size=)\n",
    "\n",
    "It has two parameters: \n",
    "\n",
    "1am- rate or known number of occurences \n",
    "size - the shape of the returned array\n",
    "\n",
    "Note: If the parameters n are large and near-zero p for Binomial distribution , poisson can be described as an approximation\n",
    "\n",
    "Applications of the poisson distribution can be found in the following examples : \n",
    "\n",
    "1.Telecommunications - calls into a center\n",
    "2. Earthquake seismology - predicting earthquakes\n",
    "\n",
    "\n",
    "An example of poisson distribution :\n"
   ]
  },
  {
   "cell_type": "code",
   "execution_count": 18,
   "metadata": {},
   "outputs": [
    {
     "name": "stdout",
     "output_type": "stream",
     "text": [
      "[0 2 4 6 0 3 2 1 1 1]\n"
     ]
    }
   ],
   "source": [
    "import numpy as np\n",
    "s = np.random.poisson(2, 10)\n",
    "print(s)"
   ]
  },
  {
   "cell_type": "code",
   "execution_count": null,
   "metadata": {},
   "outputs": [],
   "source": [
    "Visual of Pareto distribution "
   ]
  },
  {
   "cell_type": "code",
   "execution_count": 12,
   "metadata": {},
   "outputs": [
    {
     "data": {
      "image/png": "[encoded data removed]",
      "text/plain": [
       "<Figure size 576x576 with 1 Axes>"
      ]
     },
     "metadata": {
      "needs_background": "light"
     },
     "output_type": "display_data"
    }
   ],
   "source": [
    "from numpy import random\n",
    "import matplotlib.pyplot as plt\n",
    "import seaborn as sns\n",
    "\n",
    "sns.distplot(random.poisson(lam=2, size=1000), kde=False)\n",
    "\n",
    "plt.show()"
   ]
  },
  {
   "cell_type": "markdown",
   "metadata": {},
   "source": [
    "ref : https://en.wikipedia.org/wiki/Poisson_distribution\n",
    "https://numpy.org/doc/1.19/reference/random/generated/numpy.random.poisson.html\n",
    "       https://www.w3schools.com/python/numpy_random_poisson.asp "
   ]
  },
  {
   "cell_type": "markdown",
   "metadata": {},
   "source": [
    "5. Rayleigh Distribution \n",
    "\n",
    "A Rayleigh Distribution is a continuous probability distribution for nonnegative-valued random variables which are values that are greater than or equal to zero with probability one \n",
    "\n",
    "Its inital purpose proposed by its originator Lord Rayleigh was in connecton with a problem in the field of acoustics. \n",
    "\n",
    "It is often observed when the overall magnitude of a vector is related to its directional components, an example of this is wind speed analyzed in two directions. There are certain criteria that need to be met for the overall wind speed to be considered a rayleigh distribution , each component must be  : \n",
    "\n",
    " - uncorrelated - no linear relationship\n",
    " - normally distributed with equal varience from its mean\n",
    " - zero mean\n",
    " \n",
    " \n",
    " The Random.rayleigh() method is used.\n",
    "\n",
    "Its synax is : np.random.rayleigh (mode =, size=)\n",
    "\n",
    "It has two parameters:\n",
    "\n",
    "scale (σ) - Also mode , must be nonnegative.Default is 1. ( float) \n",
    "\n",
    "Size - Output shape,  e.g If the given shape is, e.g., (m, n, k), then m * n * k samples are drawn.  ( integers)\n",
    "\n",
    "Note: Rayleigh distribution can be described as a chi distribution with two degrees of freedom , which is the number of parameters that can vary independently\n",
    "\n",
    "Applications of the rayleigh distribution can be found in the following examples :\n",
    "\n",
    "1.In the field of nutrition for linking dietary nutrient levels and human and animal responses. From the rayleigh distribution principle , a functional form of a generalized quantitative model was derived.It  was then applied to the interpretation and description of several nutritional experiments in which different animal, chick and/or human were fed diets varying in concentration of nutrients. The parameters governing the curve provide the basis for deriving relationships between the nutrient and the physiological responses and explain the nutrients and responses with numerical indexes. \n",
    "\n",
    "2.Also in the field of MRI  where images are recorded as complex images but viewed as magnitude images where the background data is rayleigh distributed. Its formula can be used to estimate the noise variance in an MRI image from background data. \n",
    "\n",
    "\n",
    "\n",
    "An example of Rayleigh distribution code :"
   ]
  },
  {
   "cell_type": "code",
   "execution_count": 5,
   "metadata": {},
   "outputs": [
    {
     "name": "stdout",
     "output_type": "stream",
     "text": [
      "0.0886\n"
     ]
    }
   ],
   "source": [
    "#Wave heights area are an example of data that follow a rayleigh distribition. \n",
    "#So if the mean of wave height is 1 meter, what fraction of waves are likely to be larger than 3 meters ?\n",
    "\n",
    "import numpy as np\n",
    "from numpy import random\n",
    "meanvalue = 1\n",
    "modevalue = np.sqrt(2 / np.pi) * meanvalue\n",
    "s = np.random.rayleigh(modevalue, 1000000)\n",
    "\n",
    "# calculate the percentage of waves larger than 3 meters\n",
    "waves = 100.*sum(s>3)/1000000\n",
    "print(waves)"
   ]
  },
  {
   "cell_type": "code",
   "execution_count": 7,
   "metadata": {},
   "outputs": [
    {
     "ename": "NameError",
     "evalue": "name 'plt' is not defined",
     "output_type": "error",
     "traceback": [
      "\u001b[1;31m---------------------------------------------------------------------------\u001b[0m",
      "\u001b[1;31mNameError\u001b[0m                                 Traceback (most recent call last)",
      "\u001b[1;32m<ipython-input-7-d483e32ad763>\u001b[0m in \u001b[0;36m<module>\u001b[1;34m\u001b[0m\n\u001b[0;32m      1\u001b[0m \u001b[1;32mfrom\u001b[0m \u001b[0mmatplotlib\u001b[0m\u001b[1;33m.\u001b[0m\u001b[0mpyplot\u001b[0m \u001b[1;32mimport\u001b[0m \u001b[0mhist\u001b[0m\u001b[1;33m\u001b[0m\u001b[1;33m\u001b[0m\u001b[0m\n\u001b[0;32m      2\u001b[0m \u001b[0mvalues\u001b[0m \u001b[1;33m=\u001b[0m \u001b[0mhist\u001b[0m\u001b[1;33m(\u001b[0m\u001b[0mnp\u001b[0m\u001b[1;33m.\u001b[0m\u001b[0mrandom\u001b[0m\u001b[1;33m.\u001b[0m\u001b[0mrayleigh\u001b[0m\u001b[1;33m(\u001b[0m\u001b[1;36m3\u001b[0m\u001b[1;33m,\u001b[0m \u001b[1;36m100000\u001b[0m\u001b[1;33m)\u001b[0m\u001b[1;33m,\u001b[0m \u001b[0mbins\u001b[0m\u001b[1;33m=\u001b[0m\u001b[1;36m200\u001b[0m\u001b[1;33m,\u001b[0m \u001b[0mdensity\u001b[0m\u001b[1;33m=\u001b[0m\u001b[1;32mTrue\u001b[0m\u001b[1;33m)\u001b[0m\u001b[1;33m\u001b[0m\u001b[1;33m\u001b[0m\u001b[0m\n\u001b[1;32m----> 3\u001b[1;33m \u001b[0mplt\u001b[0m\u001b[1;33m(\u001b[0m\u001b[0mshow\u001b[0m\u001b[1;33m)\u001b[0m\u001b[1;33m\u001b[0m\u001b[1;33m\u001b[0m\u001b[0m\n\u001b[0m",
      "\u001b[1;31mNameError\u001b[0m: name 'plt' is not defined"
     ]
    },
    {
     "data": {
      "image/png": "[encoded data removed]",
      "text/plain": [
       "<Figure size 432x288 with 1 Axes>"
      ]
     },
     "metadata": {
      "needs_background": "light"
     },
     "output_type": "display_data"
    }
   ],
   "source": [
    "Visual of Rayleigh distribution\n",
    "\n",
    "from matplotlib.pyplot import hist\n",
    "values = hist(np.random.rayleigh(3, 100000), bins=200, density=True)\n",
    "plt(show)"
   ]
  },
  {
   "cell_type": "markdown",
   "metadata": {},
   "source": [
    "Ref : https://www.ncbi.nlm.nih.gov/pmc/articles/PMC5697816/\n",
    "https://en.wikipedia.org/wiki/Rayleigh_distribution\n",
    "https://visielab.uantwerpen.be/sites/default/files/sijbers2007.pdf\n",
    "https://numpy.org/doc/1.19/reference/random/generated/numpy.random.rayleigh.html?highlight=rayleigh#numpy.random.rayleigh\n",
    "https://www.w3schools.com/python/numpy_random_rayleigh.asp"
   ]
  },
  {
   "cell_type": "markdown",
   "metadata": {},
   "source": [
    "4. The use of seeds in generating pseudorandom numbers \n",
    "\n",
    "The seed is a starting point for a sequence of pseudorandom numbers. It itself does not need to be random, however if a pseudo number generator is reinitialized with the same seed, it will produce the same sequence of numbers. \n",
    "Seed function is used to save the state of a random function, so that it can generate same random numbers on a multiple executions of the code on the same machine or on difference machines.For the first time when this is no previous value ,it uses current system time or a cryptographicallt secure pseudorandom number generator or from a a hardware random number generator. \n",
    "\n",
    "In the field of computer security , the choice of a good random seed is crucial. When a secret encrytion key is pseudorandomly generated , having the seed with allow one to obtain the key. These keys are used to protect data from unauthorized access over the internet.\n",
    "Using the Seed function helps the optimization of codes where random numbers are used for testing and can be complex. Seed functions can be used to generate same random numbers again and again and this simplifies algorithm testing processes. "
   ]
  },
  {
   "cell_type": "markdown",
   "metadata": {},
   "source": [
    "#### References :\n",
    "\n",
    "[1] https://docs.scipy.org/doc/numpy-1.15.0/reference/routines.random.html\n",
    "[2] https://numpy.org/doc/stable/reference/random/generator.html\n",
    "[3] https://www.datacamp.com/community/tutorials/numpy-random\n",
    "[4]https://numpy.org/doc/stable/reference/random/generator.html#numpy.random.Generator\n",
    "[5]"
   ]
  },
  {
   "cell_type": "markdown",
   "metadata": {},
   "source": [
    "ref https://en.wikipedia.org/wiki/Random_seed\n",
    "https://www.geeksforgeeks.org/random-seed-in-python/\n",
    "https://numpy.org/doc/1.19/reference/random/generator.html#simple-random-data"
   ]
  }
 ],
 "metadata": {
  "kernelspec": {
   "display_name": "Python 3",
   "language": "python",
   "name": "python3"
  },
  "language_info": {
   "codemirror_mode": {
    "name": "ipython",
    "version": 3
   },
   "file_extension": ".py",
   "mimetype": "text/x-python",
   "name": "python",
   "nbconvert_exporter": "python",
   "pygments_lexer": "ipython3",
   "version": "3.8.3"
  }
 },
 "nbformat": 4,
 "nbformat_minor": 2
}
